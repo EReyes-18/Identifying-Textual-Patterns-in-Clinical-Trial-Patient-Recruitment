{
 "cells": [
  {
   "cell_type": "markdown",
   "metadata": {},
   "source": [
    "Background:\n",
    "----------\n",
    "\n",
    "The following script was modified from https://www.karambelkar.info/2015/01/how-to-use-twitters-search-rest-api-most-effectively./\n",
    "\n",
    "Goals:\n",
    "--------\n",
    "\n",
    "1) Connect to Twitter REST API\n",
    "\n",
    "2) Download tweets with the keywords \"clinical trials\" OR #clinicaltrials OR #clinicaltrial\"\n",
    "\n",
    "Summary:\n",
    "-------\n",
    "\n",
    "A total of ~270,000 tweets were collected over a six month period"
   ]
  },
  {
   "cell_type": "code",
   "execution_count": null,
   "metadata": {
    "collapsed": true
   },
   "outputs": [],
   "source": [
    "# Import modules\n",
    "import tweepy\n",
    "import sys\n",
    "import jsonpickle\n",
    "import os\n",
    "import json\n",
    "import time\n",
    "\n",
    "from pymongo import Connection\n",
    "from datetime import datetime"
   ]
  },
  {
   "cell_type": "code",
   "execution_count": null,
   "metadata": {
    "collapsed": true
   },
   "outputs": [],
   "source": [
    "# Access API\n",
    "\n",
    "# Enter API access information \n",
    "API_key = ''\n",
    "API_secret = ''\n",
    "\n",
    "# Create an OAuthHandler instance \n",
    "auth = tweepy.AppAuthHandler(API_key, API_secret) \n",
    "\n",
    "# Create Twitter API wrapper with rate limit  \n",
    "api = tweepy.API(auth, wait_on_rate_limit=True,wait_on_rate_limit_notify=True) \n",
    "\n",
    "# Give an error message if can not access API \n",
    "if (not api):\n",
    "    print (\"Can't Authenticate\")\n",
    "    sys.exit(-1)"
   ]
  },
  {
   "cell_type": "code",
   "execution_count": null,
   "metadata": {
    "collapsed": true
   },
   "outputs": [],
   "source": [
    "# Connect to MongoDB \n",
    "\n",
    "# Connect to local MongoDB\n",
    "connection = Connection('localhost', 27017)\n",
    "\n",
    "# Name MongoDB database as \"TwitterStream\"\n",
    "db = connection.TwitterStream\n",
    "\n",
    "# Create new indexes\n",
    "db.tweets.ensure_index(\"id\", unique=True, dropDups=True)\n",
    "\n",
    "# MongoDB collection is named as RESTClinicalTrials\n",
    "collection = db.RESTClinicalTrials"
   ]
  },
  {
   "cell_type": "code",
   "execution_count": null,
   "metadata": {
    "collapsed": true
   },
   "outputs": [],
   "source": [
    "# Get keywords\n",
    "\n",
    "# Collect tweets that are in English\n",
    "language = ['en']\n",
    "\n",
    "# Search for tweets that contain the keyword clinical trials\n",
    "searchQuery = ['\"clinical trials\" OR #clinicaltrials OR #clinicaltrial\"']\n",
    "\n",
    "# Maximum total tweets to collect \n",
    "maxTweets = 45000\n",
    "\n",
    "# Maximum tweets collect per query (100 is the API limit)\n",
    "tweetsPerQry = 100  \n",
    "\n",
    "# The Prefix of the name of the text file where tweets will be stored\n",
    "fprefix = 'REST' "
   ]
  },
  {
   "cell_type": "code",
   "execution_count": null,
   "metadata": {
    "collapsed": true
   },
   "outputs": [],
   "source": [
    "# define min and max\n",
    "\n",
    "\n",
    "# If results from a specific ID onwards are required, set since_id to that ID.\n",
    "# else default to no lower limit, \n",
    "# go as far back as API allows\n",
    "sinceId = None\n",
    "\n",
    "# If results are below a specific ID, set max_id to that ID.\n",
    "# else default to no upper limit, start from the most recent tweet matching the search query\n",
    "max_id = -1L"
   ]
  },
  {
   "cell_type": "code",
   "execution_count": null,
   "metadata": {
    "collapsed": true
   },
   "outputs": [],
   "source": [
    "# obtain tweets\n",
    "\n",
    "# label output\n",
    "sys.stdout = open('/Users/edwinreyes/Desktop/REST_ClincalTrials/' + fprefix + \"TweetCount\" + '.' + time.strftime('%Y-%m-%d_%H-%M-%S') + '.json', 'a+')\n",
    "\n",
    "# initialize counter \n",
    "tweetCount = 0\n",
    "\n",
    "# open file\n",
    "with open('/Users/er/Desktop/REST_ClincalTrials/' + fprefix + '.' + time.strftime('%Y-%m-%d_%H-%M-%S') + '.json', 'a+') as f:\n",
    "    \n",
    "    # make while loop to stay within max Tweets allowed \n",
    "    while tweetCount < maxTweets: \n",
    "        \n",
    "        # create try/else statements in case errors arise\n",
    "        try:\n",
    "            if (max_id <= 0):\n",
    "                if (not sinceId):\n",
    "                    \n",
    "                    # Use api.search to return tweets that match query\n",
    "                    new_tweets = api.search(q=searchQuery, count=tweetsPerQry, languages=language)\n",
    "                else:\n",
    "                    new_tweets = api.search(q=searchQuery, count=tweetsPerQry,languages=language,\n",
    "                                            since_id=sinceId)\n",
    "                    \n",
    "            else:\n",
    "                if (not sinceId):\n",
    "                    new_tweets = api.search(q=searchQuery, count=tweetsPerQry,languages=language,\n",
    "                                            max_id=str(max_id - 1))\n",
    "                else:\n",
    "                    new_tweets = api.search(q=searchQuery, count=tweetsPerQry,languages=language,\n",
    "                                            max_id=str(max_id - 1),\n",
    "                                            since_id=sinceId)\n",
    "            \n",
    "            # once all new_tweets are collected, let us know \n",
    "            if not new_tweets:\n",
    "                print(\"No more tweets found\")\n",
    "                break \n",
    "            \n",
    "            \n",
    "            # loop over new_tweets\n",
    "            for tweet in new_tweets: \n",
    "                \n",
    "                # make json into a json string and make a line break \n",
    "                f.write(jsonpickle.encode(tweet._json, unpicklable=False) +\n",
    "                        '\\n')\n",
    " \n",
    "                # convert to json\n",
    "                d = json.dumps(tweet._json)\n",
    "                t = json.loads(d)\n",
    "\n",
    "                # save specific features of tweet to mongodb\n",
    "                _id = t['id_str']\n",
    "                created_at = t['created_at']\n",
    "                user_name = t['user']['name']\n",
    "                user_screenName = t['user']['screen_name']\n",
    "                user_id = t['user']['id']\n",
    "                user_location = t['user']['location'] \n",
    "                text = t['text']\n",
    "                \n",
    "                # use try/except block because not all tweets have expanded urls\n",
    "                try:\n",
    "                    expanded_url = t['entities']['urls'][0]['expanded_url'] \n",
    "                except:\n",
    "                    expanded_url = ''\n",
    "                \n",
    "                # save tweets as dictionary\n",
    "                tweets = {'_id':_id, 'text':text,'created_at':created_at,'user_name':user_name,'user_screenName ':user_screenName ,'user_id': user_id, 'user_location': user_location,'expanded_url':expanded_url}\n",
    "\n",
    "                # insert to mongodb\n",
    "                collection.insert(tweets)\n",
    "        \n",
    "\n",
    "            # counting tweets                         \n",
    "            tweetCount += len(new_tweets)\n",
    "            \n",
    "            # use try/except block to pass through IndexErrors\n",
    "            try:\n",
    "                max_id = new_tweets[-1].id\n",
    "            except IndexError:\n",
    "                pass\n",
    "\n",
    "        except tweepy.TweepError as e:\n",
    "            \n",
    "            # if any error, break\n",
    "            print(\"some error : \" + str(e))\n",
    "            break\n",
    "\n",
    "# print number of tweets downloaded\n",
    "print (\"Downloaded {0} tweets\".format(tweetCount))\n",
    "\n",
    "# close system \n",
    "sys.stdout.close()"
   ]
  }
 ],
 "metadata": {
  "kernelspec": {
   "display_name": "Python 3",
   "language": "python",
   "name": "python3"
  },
  "language_info": {
   "codemirror_mode": {
    "name": "ipython",
    "version": 3
   },
   "file_extension": ".py",
   "mimetype": "text/x-python",
   "name": "python",
   "nbconvert_exporter": "python",
   "pygments_lexer": "ipython3",
   "version": "3.6.1"
  }
 },
 "nbformat": 4,
 "nbformat_minor": 2
}
